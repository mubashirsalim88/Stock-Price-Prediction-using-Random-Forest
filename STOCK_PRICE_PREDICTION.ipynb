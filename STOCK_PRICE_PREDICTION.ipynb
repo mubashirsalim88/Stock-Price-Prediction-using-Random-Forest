{
  "nbformat": 4,
  "nbformat_minor": 0,
  "metadata": {
    "colab": {
      "provenance": []
    },
    "kernelspec": {
      "name": "python3",
      "display_name": "Python 3"
    },
    "language_info": {
      "name": "python"
    }
  },
  "cells": [
    {
      "cell_type": "markdown",
      "source": [
        "# **Stock Price Prediction using Random Forest**"
      ],
      "metadata": {
        "id": "TeRPqDvVkDA1"
      }
    },
    {
      "cell_type": "markdown",
      "source": [
        "**Introduction:**\n",
        "\n",
        "This project focuses on predicting the closing prices of Infosys (INFY) stock using historical data and machine learning techniques. The dataset contains essential features such as open, high, low, close prices, volume, and open interest (OI) for INFY stock over a period."
      ],
      "metadata": {
        "id": "GQs0qk9okdqB"
      }
    },
    {
      "cell_type": "markdown",
      "source": [
        "**Objective:**\n",
        "\n",
        "The main objective of this project is to develop a reliable prediction model that can forecast INFY stock's closing prices accurately. This predictive model can assist investors, traders, and financial analysts in making informed decisions and developing trading strategies."
      ],
      "metadata": {
        "id": "_Qk_GBeclT0t"
      }
    },
    {
      "cell_type": "markdown",
      "source": [
        "**Dataset Description:**\n",
        "\n",
        "The dataset comprises the following columns:\n",
        "\n",
        "\n",
        "1.   Name: The name of the stock (INFY in this case).\n",
        "2.   Timestamp: The date and time of the stock data entry.\n",
        "3.   Open: The opening price of the stock on that particular day.\n",
        "4.   High: The highest price the stock reached during the day.\n",
        "5.   Low: The lowest price the stock reached during the day.\n",
        "6.   Close: The closing price of the stock on that particular day.\n",
        "7.   Volume: The total number of shares traded on that day.\n",
        "8.   OI (Open Interest): Open interest refers to the total number of outstanding contracts that have not been settled for an asset.\n",
        "\n",
        "The dataset spans multiple days, capturing the fluctuations in INFY stock prices and trading volume over time."
      ],
      "metadata": {
        "id": "I1L3vZIJlbZA"
      }
    },
    {
      "cell_type": "markdown",
      "source": [
        "## **Code**"
      ],
      "metadata": {
        "id": "4ykbx3VcmCxC"
      }
    },
    {
      "cell_type": "code",
      "source": [
        "import pandas as pd\n",
        "\n",
        "# Read data into a DataFrame\n",
        "df = pd.read_excel('INFY.xlsx')\n",
        "\n",
        "# Converting the 'Timestamp' column to date\n",
        "df['Timestamp'] = pd.to_datetime(df['Timestamp'])\n",
        "\n",
        "# Create date-related features\n",
        "df['Year'] = df['Timestamp'].dt.year\n",
        "df['Month'] = df['Timestamp'].dt.month\n",
        "df['Day'] = df['Timestamp'].dt.day"
      ],
      "metadata": {
        "id": "397DfGJDkD3G"
      },
      "execution_count": 44,
      "outputs": []
    },
    {
      "cell_type": "code",
      "source": [
        "# Three new features are extracted (Year, Month, Date)\n",
        "df.head()"
      ],
      "metadata": {
        "colab": {
          "base_uri": "https://localhost:8080/",
          "height": 206
        },
        "id": "AdqLWen7m37j",
        "outputId": "b50db604-fcd3-4ead-8d14-5c7b4a194704"
      },
      "execution_count": 45,
      "outputs": [
        {
          "output_type": "execute_result",
          "data": {
            "text/plain": [
              "   Name                 Timestamp     Open     High      Low    Close  \\\n",
              "0  INFY 2024-05-07 00:00:00+05:30  1424.95  1443.35  1415.60  1440.95   \n",
              "1  INFY 2024-05-06 00:00:00+05:30  1420.00  1445.70  1417.10  1425.90   \n",
              "2  INFY 2024-05-03 00:00:00+05:30  1422.10  1424.80  1403.20  1416.30   \n",
              "3  INFY 2024-05-02 00:00:00+05:30  1413.00  1424.00  1411.85  1414.45   \n",
              "4  INFY 2024-04-30 00:00:00+05:30  1434.70  1436.55  1417.55  1420.55   \n",
              "\n",
              "     Volume  OI  Year  Month  Day  \n",
              "0   6080661   0  2024      5    7  \n",
              "1   6445422   0  2024      5    6  \n",
              "2   8842345   0  2024      5    3  \n",
              "3  10076354   0  2024      5    2  \n",
              "4   6936588   0  2024      4   30  "
            ],
            "text/html": [
              "\n",
              "  <div id=\"df-3e759037-c565-4f48-892a-3a98c7552cba\" class=\"colab-df-container\">\n",
              "    <div>\n",
              "<style scoped>\n",
              "    .dataframe tbody tr th:only-of-type {\n",
              "        vertical-align: middle;\n",
              "    }\n",
              "\n",
              "    .dataframe tbody tr th {\n",
              "        vertical-align: top;\n",
              "    }\n",
              "\n",
              "    .dataframe thead th {\n",
              "        text-align: right;\n",
              "    }\n",
              "</style>\n",
              "<table border=\"1\" class=\"dataframe\">\n",
              "  <thead>\n",
              "    <tr style=\"text-align: right;\">\n",
              "      <th></th>\n",
              "      <th>Name</th>\n",
              "      <th>Timestamp</th>\n",
              "      <th>Open</th>\n",
              "      <th>High</th>\n",
              "      <th>Low</th>\n",
              "      <th>Close</th>\n",
              "      <th>Volume</th>\n",
              "      <th>OI</th>\n",
              "      <th>Year</th>\n",
              "      <th>Month</th>\n",
              "      <th>Day</th>\n",
              "    </tr>\n",
              "  </thead>\n",
              "  <tbody>\n",
              "    <tr>\n",
              "      <th>0</th>\n",
              "      <td>INFY</td>\n",
              "      <td>2024-05-07 00:00:00+05:30</td>\n",
              "      <td>1424.95</td>\n",
              "      <td>1443.35</td>\n",
              "      <td>1415.60</td>\n",
              "      <td>1440.95</td>\n",
              "      <td>6080661</td>\n",
              "      <td>0</td>\n",
              "      <td>2024</td>\n",
              "      <td>5</td>\n",
              "      <td>7</td>\n",
              "    </tr>\n",
              "    <tr>\n",
              "      <th>1</th>\n",
              "      <td>INFY</td>\n",
              "      <td>2024-05-06 00:00:00+05:30</td>\n",
              "      <td>1420.00</td>\n",
              "      <td>1445.70</td>\n",
              "      <td>1417.10</td>\n",
              "      <td>1425.90</td>\n",
              "      <td>6445422</td>\n",
              "      <td>0</td>\n",
              "      <td>2024</td>\n",
              "      <td>5</td>\n",
              "      <td>6</td>\n",
              "    </tr>\n",
              "    <tr>\n",
              "      <th>2</th>\n",
              "      <td>INFY</td>\n",
              "      <td>2024-05-03 00:00:00+05:30</td>\n",
              "      <td>1422.10</td>\n",
              "      <td>1424.80</td>\n",
              "      <td>1403.20</td>\n",
              "      <td>1416.30</td>\n",
              "      <td>8842345</td>\n",
              "      <td>0</td>\n",
              "      <td>2024</td>\n",
              "      <td>5</td>\n",
              "      <td>3</td>\n",
              "    </tr>\n",
              "    <tr>\n",
              "      <th>3</th>\n",
              "      <td>INFY</td>\n",
              "      <td>2024-05-02 00:00:00+05:30</td>\n",
              "      <td>1413.00</td>\n",
              "      <td>1424.00</td>\n",
              "      <td>1411.85</td>\n",
              "      <td>1414.45</td>\n",
              "      <td>10076354</td>\n",
              "      <td>0</td>\n",
              "      <td>2024</td>\n",
              "      <td>5</td>\n",
              "      <td>2</td>\n",
              "    </tr>\n",
              "    <tr>\n",
              "      <th>4</th>\n",
              "      <td>INFY</td>\n",
              "      <td>2024-04-30 00:00:00+05:30</td>\n",
              "      <td>1434.70</td>\n",
              "      <td>1436.55</td>\n",
              "      <td>1417.55</td>\n",
              "      <td>1420.55</td>\n",
              "      <td>6936588</td>\n",
              "      <td>0</td>\n",
              "      <td>2024</td>\n",
              "      <td>4</td>\n",
              "      <td>30</td>\n",
              "    </tr>\n",
              "  </tbody>\n",
              "</table>\n",
              "</div>\n",
              "    <div class=\"colab-df-buttons\">\n",
              "\n",
              "  <div class=\"colab-df-container\">\n",
              "    <button class=\"colab-df-convert\" onclick=\"convertToInteractive('df-3e759037-c565-4f48-892a-3a98c7552cba')\"\n",
              "            title=\"Convert this dataframe to an interactive table.\"\n",
              "            style=\"display:none;\">\n",
              "\n",
              "  <svg xmlns=\"http://www.w3.org/2000/svg\" height=\"24px\" viewBox=\"0 -960 960 960\">\n",
              "    <path d=\"M120-120v-720h720v720H120Zm60-500h600v-160H180v160Zm220 220h160v-160H400v160Zm0 220h160v-160H400v160ZM180-400h160v-160H180v160Zm440 0h160v-160H620v160ZM180-180h160v-160H180v160Zm440 0h160v-160H620v160Z\"/>\n",
              "  </svg>\n",
              "    </button>\n",
              "\n",
              "  <style>\n",
              "    .colab-df-container {\n",
              "      display:flex;\n",
              "      gap: 12px;\n",
              "    }\n",
              "\n",
              "    .colab-df-convert {\n",
              "      background-color: #E8F0FE;\n",
              "      border: none;\n",
              "      border-radius: 50%;\n",
              "      cursor: pointer;\n",
              "      display: none;\n",
              "      fill: #1967D2;\n",
              "      height: 32px;\n",
              "      padding: 0 0 0 0;\n",
              "      width: 32px;\n",
              "    }\n",
              "\n",
              "    .colab-df-convert:hover {\n",
              "      background-color: #E2EBFA;\n",
              "      box-shadow: 0px 1px 2px rgba(60, 64, 67, 0.3), 0px 1px 3px 1px rgba(60, 64, 67, 0.15);\n",
              "      fill: #174EA6;\n",
              "    }\n",
              "\n",
              "    .colab-df-buttons div {\n",
              "      margin-bottom: 4px;\n",
              "    }\n",
              "\n",
              "    [theme=dark] .colab-df-convert {\n",
              "      background-color: #3B4455;\n",
              "      fill: #D2E3FC;\n",
              "    }\n",
              "\n",
              "    [theme=dark] .colab-df-convert:hover {\n",
              "      background-color: #434B5C;\n",
              "      box-shadow: 0px 1px 3px 1px rgba(0, 0, 0, 0.15);\n",
              "      filter: drop-shadow(0px 1px 2px rgba(0, 0, 0, 0.3));\n",
              "      fill: #FFFFFF;\n",
              "    }\n",
              "  </style>\n",
              "\n",
              "    <script>\n",
              "      const buttonEl =\n",
              "        document.querySelector('#df-3e759037-c565-4f48-892a-3a98c7552cba button.colab-df-convert');\n",
              "      buttonEl.style.display =\n",
              "        google.colab.kernel.accessAllowed ? 'block' : 'none';\n",
              "\n",
              "      async function convertToInteractive(key) {\n",
              "        const element = document.querySelector('#df-3e759037-c565-4f48-892a-3a98c7552cba');\n",
              "        const dataTable =\n",
              "          await google.colab.kernel.invokeFunction('convertToInteractive',\n",
              "                                                    [key], {});\n",
              "        if (!dataTable) return;\n",
              "\n",
              "        const docLinkHtml = 'Like what you see? Visit the ' +\n",
              "          '<a target=\"_blank\" href=https://colab.research.google.com/notebooks/data_table.ipynb>data table notebook</a>'\n",
              "          + ' to learn more about interactive tables.';\n",
              "        element.innerHTML = '';\n",
              "        dataTable['output_type'] = 'display_data';\n",
              "        await google.colab.output.renderOutput(dataTable, element);\n",
              "        const docLink = document.createElement('div');\n",
              "        docLink.innerHTML = docLinkHtml;\n",
              "        element.appendChild(docLink);\n",
              "      }\n",
              "    </script>\n",
              "  </div>\n",
              "\n",
              "\n",
              "<div id=\"df-2ae434be-1b40-4517-955a-8f66050d8901\">\n",
              "  <button class=\"colab-df-quickchart\" onclick=\"quickchart('df-2ae434be-1b40-4517-955a-8f66050d8901')\"\n",
              "            title=\"Suggest charts\"\n",
              "            style=\"display:none;\">\n",
              "\n",
              "<svg xmlns=\"http://www.w3.org/2000/svg\" height=\"24px\"viewBox=\"0 0 24 24\"\n",
              "     width=\"24px\">\n",
              "    <g>\n",
              "        <path d=\"M19 3H5c-1.1 0-2 .9-2 2v14c0 1.1.9 2 2 2h14c1.1 0 2-.9 2-2V5c0-1.1-.9-2-2-2zM9 17H7v-7h2v7zm4 0h-2V7h2v10zm4 0h-2v-4h2v4z\"/>\n",
              "    </g>\n",
              "</svg>\n",
              "  </button>\n",
              "\n",
              "<style>\n",
              "  .colab-df-quickchart {\n",
              "      --bg-color: #E8F0FE;\n",
              "      --fill-color: #1967D2;\n",
              "      --hover-bg-color: #E2EBFA;\n",
              "      --hover-fill-color: #174EA6;\n",
              "      --disabled-fill-color: #AAA;\n",
              "      --disabled-bg-color: #DDD;\n",
              "  }\n",
              "\n",
              "  [theme=dark] .colab-df-quickchart {\n",
              "      --bg-color: #3B4455;\n",
              "      --fill-color: #D2E3FC;\n",
              "      --hover-bg-color: #434B5C;\n",
              "      --hover-fill-color: #FFFFFF;\n",
              "      --disabled-bg-color: #3B4455;\n",
              "      --disabled-fill-color: #666;\n",
              "  }\n",
              "\n",
              "  .colab-df-quickchart {\n",
              "    background-color: var(--bg-color);\n",
              "    border: none;\n",
              "    border-radius: 50%;\n",
              "    cursor: pointer;\n",
              "    display: none;\n",
              "    fill: var(--fill-color);\n",
              "    height: 32px;\n",
              "    padding: 0;\n",
              "    width: 32px;\n",
              "  }\n",
              "\n",
              "  .colab-df-quickchart:hover {\n",
              "    background-color: var(--hover-bg-color);\n",
              "    box-shadow: 0 1px 2px rgba(60, 64, 67, 0.3), 0 1px 3px 1px rgba(60, 64, 67, 0.15);\n",
              "    fill: var(--button-hover-fill-color);\n",
              "  }\n",
              "\n",
              "  .colab-df-quickchart-complete:disabled,\n",
              "  .colab-df-quickchart-complete:disabled:hover {\n",
              "    background-color: var(--disabled-bg-color);\n",
              "    fill: var(--disabled-fill-color);\n",
              "    box-shadow: none;\n",
              "  }\n",
              "\n",
              "  .colab-df-spinner {\n",
              "    border: 2px solid var(--fill-color);\n",
              "    border-color: transparent;\n",
              "    border-bottom-color: var(--fill-color);\n",
              "    animation:\n",
              "      spin 1s steps(1) infinite;\n",
              "  }\n",
              "\n",
              "  @keyframes spin {\n",
              "    0% {\n",
              "      border-color: transparent;\n",
              "      border-bottom-color: var(--fill-color);\n",
              "      border-left-color: var(--fill-color);\n",
              "    }\n",
              "    20% {\n",
              "      border-color: transparent;\n",
              "      border-left-color: var(--fill-color);\n",
              "      border-top-color: var(--fill-color);\n",
              "    }\n",
              "    30% {\n",
              "      border-color: transparent;\n",
              "      border-left-color: var(--fill-color);\n",
              "      border-top-color: var(--fill-color);\n",
              "      border-right-color: var(--fill-color);\n",
              "    }\n",
              "    40% {\n",
              "      border-color: transparent;\n",
              "      border-right-color: var(--fill-color);\n",
              "      border-top-color: var(--fill-color);\n",
              "    }\n",
              "    60% {\n",
              "      border-color: transparent;\n",
              "      border-right-color: var(--fill-color);\n",
              "    }\n",
              "    80% {\n",
              "      border-color: transparent;\n",
              "      border-right-color: var(--fill-color);\n",
              "      border-bottom-color: var(--fill-color);\n",
              "    }\n",
              "    90% {\n",
              "      border-color: transparent;\n",
              "      border-bottom-color: var(--fill-color);\n",
              "    }\n",
              "  }\n",
              "</style>\n",
              "\n",
              "  <script>\n",
              "    async function quickchart(key) {\n",
              "      const quickchartButtonEl =\n",
              "        document.querySelector('#' + key + ' button');\n",
              "      quickchartButtonEl.disabled = true;  // To prevent multiple clicks.\n",
              "      quickchartButtonEl.classList.add('colab-df-spinner');\n",
              "      try {\n",
              "        const charts = await google.colab.kernel.invokeFunction(\n",
              "            'suggestCharts', [key], {});\n",
              "      } catch (error) {\n",
              "        console.error('Error during call to suggestCharts:', error);\n",
              "      }\n",
              "      quickchartButtonEl.classList.remove('colab-df-spinner');\n",
              "      quickchartButtonEl.classList.add('colab-df-quickchart-complete');\n",
              "    }\n",
              "    (() => {\n",
              "      let quickchartButtonEl =\n",
              "        document.querySelector('#df-2ae434be-1b40-4517-955a-8f66050d8901 button');\n",
              "      quickchartButtonEl.style.display =\n",
              "        google.colab.kernel.accessAllowed ? 'block' : 'none';\n",
              "    })();\n",
              "  </script>\n",
              "</div>\n",
              "    </div>\n",
              "  </div>\n"
            ],
            "application/vnd.google.colaboratory.intrinsic+json": {
              "type": "dataframe",
              "variable_name": "df",
              "summary": "{\n  \"name\": \"df\",\n  \"rows\": 249,\n  \"fields\": [\n    {\n      \"column\": \"Name\",\n      \"properties\": {\n        \"dtype\": \"category\",\n        \"num_unique_values\": 1,\n        \"samples\": [\n          \"INFY\"\n        ],\n        \"semantic_type\": \"\",\n        \"description\": \"\"\n      }\n    },\n    {\n      \"column\": \"Timestamp\",\n      \"properties\": {\n        \"dtype\": \"date\",\n        \"min\": \"2023-05-08 00:00:00+05:30\",\n        \"max\": \"2024-05-07 00:00:00+05:30\",\n        \"num_unique_values\": 249,\n        \"samples\": [\n          \"2023-10-16 00:00:00+05:30\"\n        ],\n        \"semantic_type\": \"\",\n        \"description\": \"\"\n      }\n    },\n    {\n      \"column\": \"Open\",\n      \"properties\": {\n        \"dtype\": \"number\",\n        \"std\": 121.73037584755465,\n        \"min\": 1249.9,\n        \"max\": 1729.0,\n        \"num_unique_values\": 232,\n        \"samples\": [\n          1294.5\n        ],\n        \"semantic_type\": \"\",\n        \"description\": \"\"\n      }\n    },\n    {\n      \"column\": \"High\",\n      \"properties\": {\n        \"dtype\": \"number\",\n        \"std\": 123.81870337793282,\n        \"min\": 1256.0,\n        \"max\": 1733.0,\n        \"num_unique_values\": 241,\n        \"samples\": [\n          1511.8\n        ],\n        \"semantic_type\": \"\",\n        \"description\": \"\"\n      }\n    },\n    {\n      \"column\": \"Low\",\n      \"properties\": {\n        \"dtype\": \"number\",\n        \"std\": 119.20845245924606,\n        \"min\": 1239.05,\n        \"max\": 1687.95,\n        \"num_unique_values\": 236,\n        \"samples\": [\n          1628.25\n        ],\n        \"semantic_type\": \"\",\n        \"description\": \"\"\n      }\n    },\n    {\n      \"column\": \"Close\",\n      \"properties\": {\n        \"dtype\": \"number\",\n        \"std\": 121.56943522218205,\n        \"min\": 1245.2,\n        \"max\": 1729.45,\n        \"num_unique_values\": 247,\n        \"samples\": [\n          1611.4\n        ],\n        \"semantic_type\": \"\",\n        \"description\": \"\"\n      }\n    },\n    {\n      \"column\": \"Volume\",\n      \"properties\": {\n        \"dtype\": \"number\",\n        \"std\": 4289430,\n        \"min\": 292153,\n        \"max\": 45548305,\n        \"num_unique_values\": 249,\n        \"samples\": [\n          4850745\n        ],\n        \"semantic_type\": \"\",\n        \"description\": \"\"\n      }\n    },\n    {\n      \"column\": \"OI\",\n      \"properties\": {\n        \"dtype\": \"number\",\n        \"std\": 0,\n        \"min\": 0,\n        \"max\": 0,\n        \"num_unique_values\": 1,\n        \"samples\": [\n          0\n        ],\n        \"semantic_type\": \"\",\n        \"description\": \"\"\n      }\n    },\n    {\n      \"column\": \"Year\",\n      \"properties\": {\n        \"dtype\": \"int32\",\n        \"num_unique_values\": 2,\n        \"samples\": [\n          2023\n        ],\n        \"semantic_type\": \"\",\n        \"description\": \"\"\n      }\n    },\n    {\n      \"column\": \"Month\",\n      \"properties\": {\n        \"dtype\": \"int32\",\n        \"num_unique_values\": 12,\n        \"samples\": [\n          7\n        ],\n        \"semantic_type\": \"\",\n        \"description\": \"\"\n      }\n    },\n    {\n      \"column\": \"Day\",\n      \"properties\": {\n        \"dtype\": \"int32\",\n        \"num_unique_values\": 31,\n        \"samples\": [\n          13\n        ],\n        \"semantic_type\": \"\",\n        \"description\": \"\"\n      }\n    }\n  ]\n}"
            }
          },
          "metadata": {},
          "execution_count": 45
        }
      ]
    },
    {
      "cell_type": "code",
      "source": [
        "# Define a mapping dictionary for Name column\n",
        "name_mapping = {'INFY': 0,}\n",
        "\n",
        "# Mapping the Name column using the defined mapping\n",
        "df['Name_mapped'] = df['Name'].map(name_mapping)\n"
      ],
      "metadata": {
        "id": "PQsSOiFSEOzU"
      },
      "execution_count": 46,
      "outputs": []
    },
    {
      "cell_type": "code",
      "source": [
        "# Features and Target variable\n",
        "X = df[['Name_mapped', 'Year', 'Month', 'Day']]  # Features\n",
        "y = df['Close']  # Target varible\n"
      ],
      "metadata": {
        "id": "1ISP-89GNkKs"
      },
      "execution_count": 47,
      "outputs": []
    },
    {
      "cell_type": "code",
      "source": [
        "from sklearn.model_selection import train_test_split\n",
        "\n",
        "# Split data into training and testing sets\n",
        "X_train, X_test, y_train, y_test = train_test_split(X, y, test_size=0.2, random_state=42)\n"
      ],
      "metadata": {
        "id": "a9DXQIy9NyOU"
      },
      "execution_count": 48,
      "outputs": []
    },
    {
      "cell_type": "code",
      "source": [
        "from sklearn.ensemble import RandomForestRegressor\n",
        "\n",
        "# Initialize the Random Forest model\n",
        "model = RandomForestRegressor(n_estimators=100, random_state=42)  # You can adjust the number of estimators as needed\n"
      ],
      "metadata": {
        "id": "HRRmb55ONzwo"
      },
      "execution_count": 49,
      "outputs": []
    },
    {
      "cell_type": "code",
      "source": [
        "# Train the model\n",
        "model.fit(X_train, y_train)\n"
      ],
      "metadata": {
        "colab": {
          "base_uri": "https://localhost:8080/",
          "height": 74
        },
        "id": "k_FK6UxtN1xl",
        "outputId": "4b75691e-de70-4b72-e2c8-57e166730075"
      },
      "execution_count": 50,
      "outputs": [
        {
          "output_type": "execute_result",
          "data": {
            "text/plain": [
              "RandomForestRegressor(random_state=42)"
            ],
            "text/html": [
              "<style>#sk-container-id-4 {color: black;background-color: white;}#sk-container-id-4 pre{padding: 0;}#sk-container-id-4 div.sk-toggleable {background-color: white;}#sk-container-id-4 label.sk-toggleable__label {cursor: pointer;display: block;width: 100%;margin-bottom: 0;padding: 0.3em;box-sizing: border-box;text-align: center;}#sk-container-id-4 label.sk-toggleable__label-arrow:before {content: \"▸\";float: left;margin-right: 0.25em;color: #696969;}#sk-container-id-4 label.sk-toggleable__label-arrow:hover:before {color: black;}#sk-container-id-4 div.sk-estimator:hover label.sk-toggleable__label-arrow:before {color: black;}#sk-container-id-4 div.sk-toggleable__content {max-height: 0;max-width: 0;overflow: hidden;text-align: left;background-color: #f0f8ff;}#sk-container-id-4 div.sk-toggleable__content pre {margin: 0.2em;color: black;border-radius: 0.25em;background-color: #f0f8ff;}#sk-container-id-4 input.sk-toggleable__control:checked~div.sk-toggleable__content {max-height: 200px;max-width: 100%;overflow: auto;}#sk-container-id-4 input.sk-toggleable__control:checked~label.sk-toggleable__label-arrow:before {content: \"▾\";}#sk-container-id-4 div.sk-estimator input.sk-toggleable__control:checked~label.sk-toggleable__label {background-color: #d4ebff;}#sk-container-id-4 div.sk-label input.sk-toggleable__control:checked~label.sk-toggleable__label {background-color: #d4ebff;}#sk-container-id-4 input.sk-hidden--visually {border: 0;clip: rect(1px 1px 1px 1px);clip: rect(1px, 1px, 1px, 1px);height: 1px;margin: -1px;overflow: hidden;padding: 0;position: absolute;width: 1px;}#sk-container-id-4 div.sk-estimator {font-family: monospace;background-color: #f0f8ff;border: 1px dotted black;border-radius: 0.25em;box-sizing: border-box;margin-bottom: 0.5em;}#sk-container-id-4 div.sk-estimator:hover {background-color: #d4ebff;}#sk-container-id-4 div.sk-parallel-item::after {content: \"\";width: 100%;border-bottom: 1px solid gray;flex-grow: 1;}#sk-container-id-4 div.sk-label:hover label.sk-toggleable__label {background-color: #d4ebff;}#sk-container-id-4 div.sk-serial::before {content: \"\";position: absolute;border-left: 1px solid gray;box-sizing: border-box;top: 0;bottom: 0;left: 50%;z-index: 0;}#sk-container-id-4 div.sk-serial {display: flex;flex-direction: column;align-items: center;background-color: white;padding-right: 0.2em;padding-left: 0.2em;position: relative;}#sk-container-id-4 div.sk-item {position: relative;z-index: 1;}#sk-container-id-4 div.sk-parallel {display: flex;align-items: stretch;justify-content: center;background-color: white;position: relative;}#sk-container-id-4 div.sk-item::before, #sk-container-id-4 div.sk-parallel-item::before {content: \"\";position: absolute;border-left: 1px solid gray;box-sizing: border-box;top: 0;bottom: 0;left: 50%;z-index: -1;}#sk-container-id-4 div.sk-parallel-item {display: flex;flex-direction: column;z-index: 1;position: relative;background-color: white;}#sk-container-id-4 div.sk-parallel-item:first-child::after {align-self: flex-end;width: 50%;}#sk-container-id-4 div.sk-parallel-item:last-child::after {align-self: flex-start;width: 50%;}#sk-container-id-4 div.sk-parallel-item:only-child::after {width: 0;}#sk-container-id-4 div.sk-dashed-wrapped {border: 1px dashed gray;margin: 0 0.4em 0.5em 0.4em;box-sizing: border-box;padding-bottom: 0.4em;background-color: white;}#sk-container-id-4 div.sk-label label {font-family: monospace;font-weight: bold;display: inline-block;line-height: 1.2em;}#sk-container-id-4 div.sk-label-container {text-align: center;}#sk-container-id-4 div.sk-container {/* jupyter's `normalize.less` sets `[hidden] { display: none; }` but bootstrap.min.css set `[hidden] { display: none !important; }` so we also need the `!important` here to be able to override the default hidden behavior on the sphinx rendered scikit-learn.org. See: https://github.com/scikit-learn/scikit-learn/issues/21755 */display: inline-block !important;position: relative;}#sk-container-id-4 div.sk-text-repr-fallback {display: none;}</style><div id=\"sk-container-id-4\" class=\"sk-top-container\"><div class=\"sk-text-repr-fallback\"><pre>RandomForestRegressor(random_state=42)</pre><b>In a Jupyter environment, please rerun this cell to show the HTML representation or trust the notebook. <br />On GitHub, the HTML representation is unable to render, please try loading this page with nbviewer.org.</b></div><div class=\"sk-container\" hidden><div class=\"sk-item\"><div class=\"sk-estimator sk-toggleable\"><input class=\"sk-toggleable__control sk-hidden--visually\" id=\"sk-estimator-id-4\" type=\"checkbox\" checked><label for=\"sk-estimator-id-4\" class=\"sk-toggleable__label sk-toggleable__label-arrow\">RandomForestRegressor</label><div class=\"sk-toggleable__content\"><pre>RandomForestRegressor(random_state=42)</pre></div></div></div></div></div>"
            ]
          },
          "metadata": {},
          "execution_count": 50
        }
      ]
    },
    {
      "cell_type": "markdown",
      "source": [
        "### Generate future dates for the next 30 days (08-05-2024 to 06-06-2024)"
      ],
      "metadata": {
        "id": "bbuUxG5NnjlL"
      }
    },
    {
      "cell_type": "code",
      "source": [
        "from datetime import datetime, timedelta\n",
        "\n",
        "# Get the last date in the dataset\n",
        "last_date = df['Timestamp'].max()\n",
        "\n",
        "# Generate future dates for the next 30 days\n",
        "future_dates = [last_date + timedelta(days=i) for i in range(1, 31)]\n",
        "\n",
        "# Create a DataFrame for future dates with the same features\n",
        "future_df = pd.DataFrame({'Name_mapped': [0] * 30,  # Assuming all mapped to 0 for simplicity\n",
        "                          'Year': [date.year for date in future_dates],\n",
        "                          'Month': [date.month for date in future_dates],\n",
        "                          'Day': [date.day for date in future_dates]})\n"
      ],
      "metadata": {
        "id": "fi6Kk75IN3qF"
      },
      "execution_count": 51,
      "outputs": []
    },
    {
      "cell_type": "code",
      "source": [
        "# Make predictions for future dates\n",
        "future_predictions = model.predict(future_df)\n"
      ],
      "metadata": {
        "id": "9SeqTNsWN6CT"
      },
      "execution_count": 52,
      "outputs": []
    },
    {
      "cell_type": "code",
      "source": [
        "future_predictions"
      ],
      "metadata": {
        "colab": {
          "base_uri": "https://localhost:8080/"
        },
        "id": "_eGSntXBN7lb",
        "outputId": "960d454f-4a86-428f-c0c7-f0558fb63292"
      },
      "execution_count": 53,
      "outputs": [
        {
          "output_type": "execute_result",
          "data": {
            "text/plain": [
              "array([1433.6415, 1434.7195, 1434.534 , 1436.2055, 1436.2195, 1432.687 ,\n",
              "       1431.376 , 1431.376 , 1424.173 , 1421.368 , 1421.2785, 1418.7185,\n",
              "       1418.9015, 1419.9565, 1428.4345, 1430.0665, 1430.28  , 1434.218 ,\n",
              "       1434.406 , 1434.766 , 1430.4515, 1430.4515, 1426.712 , 1426.6565,\n",
              "       1431.12  , 1423.506 , 1423.1945, 1423.4595, 1428.0865, 1428.0285])"
            ]
          },
          "metadata": {},
          "execution_count": 53
        }
      ]
    },
    {
      "cell_type": "code",
      "source": [
        "import matplotlib.pyplot as plt\n",
        "\n",
        "# Plot historical data\n",
        "plt.plot(df['Timestamp'], df['Close'], label='Historical Close Prices')\n",
        "\n",
        "# Plot future dates and predicted prices\n",
        "plt.plot(future_dates, future_predictions, label='Predicted Close Prices', linestyle='-')\n",
        "\n",
        "# Add labels and title\n",
        "plt.xlabel('Date')\n",
        "plt.ylabel('Close Price')\n",
        "plt.title('Historical and Predicted Close Prices')\n",
        "plt.legend()\n",
        "\n",
        "# Rotate x-axis labels for better readability\n",
        "plt.xticks(rotation=45)\n",
        "\n",
        "# Show plot\n",
        "plt.show()\n"
      ],
      "metadata": {
        "colab": {
          "base_uri": "https://localhost:8080/",
          "height": 508
        },
        "id": "gG3oLYDmN_pA",
        "outputId": "492df2a5-b5da-41f8-881b-af217aba7226"
      },
      "execution_count": 54,
      "outputs": [
        {
          "output_type": "display_data",
          "data": {
            "text/plain": [
              "<Figure size 640x480 with 1 Axes>"
            ],
            "image/png": "[encoded data removed]"
          },
          "metadata": {}
        }
      ]
    },
    {
      "cell_type": "markdown",
      "source": [
        "### Evaluation metrics for training dataset"
      ],
      "metadata": {
        "id": "QkjPBv17okvd"
      }
    },
    {
      "cell_type": "code",
      "source": [
        "from sklearn.metrics import mean_absolute_error, mean_squared_error, r2_score\n",
        "\n",
        "# Make predictions for the training set\n",
        "y_train_predicted = model.predict(X_train)\n",
        "\n",
        "# Calculate evaluation metrics\n",
        "mae_train = mean_absolute_error(y_train, y_train_predicted)\n",
        "mse_train = mean_squared_error(y_train, y_train_predicted)\n",
        "r2_train = r2_score(y_train, y_train_predicted)\n",
        "\n",
        "print(\"Mean Absolute Error (MAE) on training set:\", mae_train)\n",
        "print(\"Mean Squared Error (MSE) on training set:\", mse_train)\n",
        "print(\"R-squared (R2) Score on training set:\", r2_train)\n"
      ],
      "metadata": {
        "colab": {
          "base_uri": "https://localhost:8080/"
        },
        "id": "k3t02HHRPqgC",
        "outputId": "56a67990-3712-4b06-ec6e-d64f698e981e"
      },
      "execution_count": 55,
      "outputs": [
        {
          "output_type": "stream",
          "name": "stdout",
          "text": [
            "Mean Absolute Error (MAE) on training set: 5.302804020100351\n",
            "Mean Squared Error (MSE) on training set: 53.70781052261316\n",
            "R-squared (R2) Score on training set: 0.9964890203919166\n"
          ]
        }
      ]
    },
    {
      "cell_type": "markdown",
      "source": [
        "### Evaluation metrics for testing dataset"
      ],
      "metadata": {
        "id": "O89pm3sGos6B"
      }
    },
    {
      "cell_type": "code",
      "source": [
        "# Make predictions for the test set\n",
        "y_test_predicted = model.predict(X_test)\n",
        "\n",
        "# Calculate evaluation metrics\n",
        "mae_test = mean_absolute_error(y_test, y_test_predicted)\n",
        "mse_test = mean_squared_error(y_test, y_test_predicted)\n",
        "r2_test = r2_score(y_test, y_test_predicted)\n",
        "\n",
        "print(\"Mean Absolute Error (MAE) on test set:\", mae_test)\n",
        "print(\"Mean Squared Error (MSE) on test set:\", mse_test)\n",
        "print(\"R-squared (R2) Score on test set:\", r2_test)\n"
      ],
      "metadata": {
        "colab": {
          "base_uri": "https://localhost:8080/"
        },
        "id": "P2ZViohTR6UV",
        "outputId": "0447cb88-7692-4267-9e34-29f1920307e4"
      },
      "execution_count": 56,
      "outputs": [
        {
          "output_type": "stream",
          "name": "stdout",
          "text": [
            "Mean Absolute Error (MAE) on test set: 16.087839999999773\n",
            "Mean Squared Error (MSE) on test set: 633.0316891899861\n",
            "R-squared (R2) Score on test set: 0.9490356501268926\n"
          ]
        }
      ]
    },
    {
      "cell_type": "markdown",
      "source": [
        "**Conclusion:**\n",
        "\n",
        "The predictive model developed using Random Forest Regression has generated future closing price predictions for Infosys (INFY) stock for the next 30 days. The predicted values are as follows:\n",
        "\n",
        "[1433.6415, 1434.7195, 1434.534, 1436.2055, 1436.2195, 1432.687,\n",
        "1431.376, 1431.376, 1424.173, 1421.368, 1421.2785, 1418.7185,\n",
        "1418.9015, 1419.9565, 1428.4345, 1430.0665, 1430.28, 1434.218,\n",
        "1434.406, 1434.766, 1430.4515, 1430.4515, 1426.712, 1426.6565,\n",
        "1431.12, 1423.506, 1423.1945, 1423.4595, 1428.0865, 1428.0285]\n",
        "\n",
        "These predictions provide insights into potential future price movements of INFY stock, which can be valuable for investors, traders, and financial analysts in formulating their investment strategies and decisions. However, it's essential to note that these predictions are based on historical data and the performance of the predictive model, and actual market conditions may vary. Continuous monitoring and refinement of the model are recommended to improve its accuracy and reliability over time.\n"
      ],
      "metadata": {
        "id": "QkxzkWYKpFgN"
      }
    }
  ]
}